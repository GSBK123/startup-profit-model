{
  "nbformat": 4,
  "nbformat_minor": 0,
  "metadata": {
    "colab": {
      "provenance": [],
      "authorship_tag": "ABX9TyOt0U24YuCl5sQo63ysZPxq",
      "include_colab_link": true
    },
    "kernelspec": {
      "name": "python3",
      "display_name": "Python 3"
    },
    "language_info": {
      "name": "python"
    }
  },
  "cells": [
    {
      "cell_type": "markdown",
      "metadata": {
        "id": "view-in-github",
        "colab_type": "text"
      },
      "source": [
        "<a href=\"https://colab.research.google.com/github/GSBK123/startup-profit-model/blob/main/CODE.ipynb\" target=\"_parent\"><img src=\"https://colab.research.google.com/assets/colab-badge.svg\" alt=\"Open In Colab\"/></a>"
      ]
    },
    {
      "cell_type": "code",
      "execution_count": null,
      "metadata": {
        "colab": {
          "base_uri": "https://localhost:8080/",
          "height": 282
        },
        "id": "42ZUwH22OrcJ",
        "outputId": "65f966e2-69fd-4a55-a477-bd82dafdd111"
      },
      "outputs": [
        {
          "output_type": "stream",
          "name": "stdout",
          "text": [
            "[0 0 1 1 0 1]\n"
          ]
        },
        {
          "output_type": "display_data",
          "data": {
            "text/plain": [
              "<Figure size 432x288 with 1 Axes>"
            ],
            "image/png": "[encoded data removed]"
          },
          "metadata": {
            "needs_background": "light"
          }
        }
      ],
      "source": [
        "\n",
        "# Online Python - IDE, Editor, Compiler, Interpreter\n",
        "\n",
        "import numpy as np\n",
        "import matplotlib.pyplot as plt\n",
        "from matplotlib import style\n",
        "\n",
        "\n",
        "class KMeans:\n",
        "    def __init__(self, k=2, max_iter=100):\n",
        "        self.k = k\n",
        "        self.max_iter = max_iter\n",
        "        \n",
        "    def fit(self, X):\n",
        "        self.centroids = X[np.random.choice(X.shape[0], self.k, replace=False)]\n",
        "        \n",
        "        for i in range(self.max_iter):\n",
        "            clusters = [[] for _ in range(self.k)]\n",
        "            \n",
        "            for x in X:\n",
        "                distances = [np.linalg.norm(x - c) for c in self.centroids]\n",
        "                cluster_idx = np.argmin(distances)\n",
        "                clusters[cluster_idx].append(x)\n",
        "            \n",
        "            prev_centroids = self.centroids.copy()\n",
        "            \n",
        "            for j, cluster in enumerate(clusters):\n",
        "                if len(cluster) > 0:\n",
        "                    self.centroids[j] = np.mean(cluster, axis=0)\n",
        "                    \n",
        "            if np.allclose(prev_centroids, self.centroids):\n",
        "                break\n",
        "                \n",
        "    def predict(self, X):\n",
        "        distances = np.zeros((len(X), self.k))\n",
        "        for i, x in enumerate(X):\n",
        "            distances[i] = [np.linalg.norm(x - c) for c in self.centroids]\n",
        "        return np.argmin(distances, axis=1)\n",
        "\n",
        "\n",
        "X = np.array([[2, 4],\n",
        "              [1.7, 2.8],\n",
        "              [7, 8],\n",
        "              [8.6, 8],\n",
        "              [3.4, 1.5],\n",
        "              [9, 11]])\n",
        "\n",
        "kmeans = KMeans(k=2, max_iter=100)\n",
        "kmeans.fit(X)\n",
        "\n",
        "print(kmeans.predict(X))\n",
        "\n",
        "colors = ['b', 'g']\n",
        "\n",
        "fig, ax = plt.subplots()\n",
        "\n",
        "for i in range(kmeans.k):\n",
        "    points = np.array([X[j] for j in range(len(X)) if kmeans.predict(X)[j] == i])\n",
        "    ax.scatter(points[:, 0], points[:, 1], s=150, c=colors[i])\n",
        "\n",
        "\n"
      ]
    },
    {
      "cell_type": "code",
      "source": [],
      "metadata": {
        "id": "r2niOSnIPPv_"
      },
      "execution_count": null,
      "outputs": []
    }
  ]
}